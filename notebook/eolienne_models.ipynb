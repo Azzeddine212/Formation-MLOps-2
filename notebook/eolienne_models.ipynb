{
 "cells": [
  {
   "cell_type": "markdown",
   "metadata": {},
   "source": [
    "# Imports Libraries"
   ]
  },
  {
   "cell_type": "code",
   "execution_count": 2,
   "metadata": {},
   "outputs": [],
   "source": [
    "import pandas as pd\n",
    "from sklearn.ensemble import RandomForestRegressor\n",
    "from sklearn.model_selection import train_test_split\n",
    "import matplotlib.pyplot as plt\n",
    "from datetime import date, datetime\n",
    "\n",
    "\n",
    "import sys\n",
    "sys.path.append(\"../src/\")\n",
    "\n",
    "from feature_engineering import produce_data_features, get_season\n",
    "\n",
    "\n",
    "%matplotlib inline"
   ]
  },
  {
   "cell_type": "markdown",
   "metadata": {},
   "source": [
    "# Load data"
   ]
  },
  {
   "cell_type": "code",
   "execution_count": 3,
   "metadata": {
    "pycharm": {
     "is_executing": false
    }
   },
   "outputs": [],
   "source": [
    "df = pd.read_csv(\"/Users/ismail.lachheb/Projects/dsin2/la-haute-borne-data-2017-2020.csv\", sep=\";\")"
   ]
  },
  {
   "cell_type": "code",
   "execution_count": 4,
   "metadata": {},
   "outputs": [
    {
     "data": {
      "text/html": [
       "<div>\n",
       "<style scoped>\n",
       "    .dataframe tbody tr th:only-of-type {\n",
       "        vertical-align: middle;\n",
       "    }\n",
       "\n",
       "    .dataframe tbody tr th {\n",
       "        vertical-align: top;\n",
       "    }\n",
       "\n",
       "    .dataframe thead th {\n",
       "        text-align: right;\n",
       "    }\n",
       "</style>\n",
       "<table border=\"1\" class=\"dataframe\">\n",
       "  <thead>\n",
       "    <tr style=\"text-align: right;\">\n",
       "      <th></th>\n",
       "      <th>Ba_avg</th>\n",
       "      <th>Ba_min</th>\n",
       "      <th>Ba_max</th>\n",
       "      <th>Ba_std</th>\n",
       "      <th>Rt_avg</th>\n",
       "      <th>Rt_min</th>\n",
       "      <th>Rt_max</th>\n",
       "      <th>Rt_std</th>\n",
       "      <th>DCs_avg</th>\n",
       "      <th>DCs_min</th>\n",
       "      <th>...</th>\n",
       "      <th>Pas_max</th>\n",
       "      <th>Pas_std</th>\n",
       "      <th>Wa_c_avg</th>\n",
       "      <th>Wa_c_min</th>\n",
       "      <th>Wa_c_max</th>\n",
       "      <th>Wa_c_std</th>\n",
       "      <th>Na_c_avg</th>\n",
       "      <th>Na_c_min</th>\n",
       "      <th>Na_c_max</th>\n",
       "      <th>Na_c_std</th>\n",
       "    </tr>\n",
       "  </thead>\n",
       "  <tbody>\n",
       "    <tr>\n",
       "      <th>count</th>\n",
       "      <td>215636.000000</td>\n",
       "      <td>215636.000000</td>\n",
       "      <td>215636.000000</td>\n",
       "      <td>215636.000000</td>\n",
       "      <td>215639.000000</td>\n",
       "      <td>215639.00000</td>\n",
       "      <td>215639.000000</td>\n",
       "      <td>215639.000000</td>\n",
       "      <td>215639.000000</td>\n",
       "      <td>215639.000000</td>\n",
       "      <td>...</td>\n",
       "      <td>0.0</td>\n",
       "      <td>0.0</td>\n",
       "      <td>33931.000000</td>\n",
       "      <td>0.0</td>\n",
       "      <td>0.0</td>\n",
       "      <td>0.0</td>\n",
       "      <td>33931.000000</td>\n",
       "      <td>0.0</td>\n",
       "      <td>0.0</td>\n",
       "      <td>0.0</td>\n",
       "    </tr>\n",
       "    <tr>\n",
       "      <th>mean</th>\n",
       "      <td>12.018144</td>\n",
       "      <td>10.838804</td>\n",
       "      <td>13.666945</td>\n",
       "      <td>0.936870</td>\n",
       "      <td>19.490556</td>\n",
       "      <td>19.30385</td>\n",
       "      <td>19.697785</td>\n",
       "      <td>0.100994</td>\n",
       "      <td>1088.096656</td>\n",
       "      <td>971.827998</td>\n",
       "      <td>...</td>\n",
       "      <td>NaN</td>\n",
       "      <td>NaN</td>\n",
       "      <td>173.004551</td>\n",
       "      <td>NaN</td>\n",
       "      <td>NaN</td>\n",
       "      <td>NaN</td>\n",
       "      <td>173.004551</td>\n",
       "      <td>NaN</td>\n",
       "      <td>NaN</td>\n",
       "      <td>NaN</td>\n",
       "    </tr>\n",
       "    <tr>\n",
       "      <th>std</th>\n",
       "      <td>25.365769</td>\n",
       "      <td>25.106044</td>\n",
       "      <td>26.108283</td>\n",
       "      <td>4.000833</td>\n",
       "      <td>6.685216</td>\n",
       "      <td>6.66859</td>\n",
       "      <td>6.691840</td>\n",
       "      <td>0.193629</td>\n",
       "      <td>605.395614</td>\n",
       "      <td>576.448215</td>\n",
       "      <td>...</td>\n",
       "      <td>NaN</td>\n",
       "      <td>NaN</td>\n",
       "      <td>86.065035</td>\n",
       "      <td>NaN</td>\n",
       "      <td>NaN</td>\n",
       "      <td>NaN</td>\n",
       "      <td>86.065035</td>\n",
       "      <td>NaN</td>\n",
       "      <td>NaN</td>\n",
       "      <td>NaN</td>\n",
       "    </tr>\n",
       "    <tr>\n",
       "      <th>min</th>\n",
       "      <td>-1.530000</td>\n",
       "      <td>-27.570000</td>\n",
       "      <td>-1.020000</td>\n",
       "      <td>0.000000</td>\n",
       "      <td>1.780000</td>\n",
       "      <td>1.00000</td>\n",
       "      <td>2.000000</td>\n",
       "      <td>0.000000</td>\n",
       "      <td>-574.890000</td>\n",
       "      <td>-574.950000</td>\n",
       "      <td>...</td>\n",
       "      <td>NaN</td>\n",
       "      <td>NaN</td>\n",
       "      <td>0.010000</td>\n",
       "      <td>NaN</td>\n",
       "      <td>NaN</td>\n",
       "      <td>NaN</td>\n",
       "      <td>0.010000</td>\n",
       "      <td>NaN</td>\n",
       "      <td>NaN</td>\n",
       "      <td>NaN</td>\n",
       "    </tr>\n",
       "    <tr>\n",
       "      <th>25%</th>\n",
       "      <td>-0.990000</td>\n",
       "      <td>-1.000000</td>\n",
       "      <td>-0.990000</td>\n",
       "      <td>0.000000</td>\n",
       "      <td>14.000000</td>\n",
       "      <td>14.00000</td>\n",
       "      <td>14.120000</td>\n",
       "      <td>0.000000</td>\n",
       "      <td>964.630000</td>\n",
       "      <td>954.940000</td>\n",
       "      <td>...</td>\n",
       "      <td>NaN</td>\n",
       "      <td>NaN</td>\n",
       "      <td>90.075001</td>\n",
       "      <td>NaN</td>\n",
       "      <td>NaN</td>\n",
       "      <td>NaN</td>\n",
       "      <td>90.075001</td>\n",
       "      <td>NaN</td>\n",
       "      <td>NaN</td>\n",
       "      <td>NaN</td>\n",
       "    </tr>\n",
       "    <tr>\n",
       "      <th>50%</th>\n",
       "      <td>-0.970000</td>\n",
       "      <td>-0.990000</td>\n",
       "      <td>-0.490000</td>\n",
       "      <td>0.000000</td>\n",
       "      <td>19.000000</td>\n",
       "      <td>19.00000</td>\n",
       "      <td>19.000000</td>\n",
       "      <td>0.000000</td>\n",
       "      <td>1200.870000</td>\n",
       "      <td>1046.810100</td>\n",
       "      <td>...</td>\n",
       "      <td>NaN</td>\n",
       "      <td>NaN</td>\n",
       "      <td>192.080000</td>\n",
       "      <td>NaN</td>\n",
       "      <td>NaN</td>\n",
       "      <td>NaN</td>\n",
       "      <td>192.080000</td>\n",
       "      <td>NaN</td>\n",
       "      <td>NaN</td>\n",
       "      <td>NaN</td>\n",
       "    </tr>\n",
       "    <tr>\n",
       "      <th>75%</th>\n",
       "      <td>2.970000</td>\n",
       "      <td>-0.960000</td>\n",
       "      <td>13.380000</td>\n",
       "      <td>0.190000</td>\n",
       "      <td>24.090000</td>\n",
       "      <td>24.00000</td>\n",
       "      <td>25.000000</td>\n",
       "      <td>0.180000</td>\n",
       "      <td>1593.030000</td>\n",
       "      <td>1390.565050</td>\n",
       "      <td>...</td>\n",
       "      <td>NaN</td>\n",
       "      <td>NaN</td>\n",
       "      <td>236.399990</td>\n",
       "      <td>NaN</td>\n",
       "      <td>NaN</td>\n",
       "      <td>NaN</td>\n",
       "      <td>236.399990</td>\n",
       "      <td>NaN</td>\n",
       "      <td>NaN</td>\n",
       "      <td>NaN</td>\n",
       "    </tr>\n",
       "    <tr>\n",
       "      <th>max</th>\n",
       "      <td>132.480000</td>\n",
       "      <td>92.750000</td>\n",
       "      <td>163.230000</td>\n",
       "      <td>46.070000</td>\n",
       "      <td>215.000000</td>\n",
       "      <td>215.00000</td>\n",
       "      <td>215.000000</td>\n",
       "      <td>39.790000</td>\n",
       "      <td>1807.600000</td>\n",
       "      <td>1802.250000</td>\n",
       "      <td>...</td>\n",
       "      <td>NaN</td>\n",
       "      <td>NaN</td>\n",
       "      <td>360.000000</td>\n",
       "      <td>NaN</td>\n",
       "      <td>NaN</td>\n",
       "      <td>NaN</td>\n",
       "      <td>360.000000</td>\n",
       "      <td>NaN</td>\n",
       "      <td>NaN</td>\n",
       "      <td>NaN</td>\n",
       "    </tr>\n",
       "  </tbody>\n",
       "</table>\n",
       "<p>8 rows × 136 columns</p>\n",
       "</div>"
      ],
      "text/plain": [
       "              Ba_avg         Ba_min         Ba_max         Ba_std  \\\n",
       "count  215636.000000  215636.000000  215636.000000  215636.000000   \n",
       "mean       12.018144      10.838804      13.666945       0.936870   \n",
       "std        25.365769      25.106044      26.108283       4.000833   \n",
       "min        -1.530000     -27.570000      -1.020000       0.000000   \n",
       "25%        -0.990000      -1.000000      -0.990000       0.000000   \n",
       "50%        -0.970000      -0.990000      -0.490000       0.000000   \n",
       "75%         2.970000      -0.960000      13.380000       0.190000   \n",
       "max       132.480000      92.750000     163.230000      46.070000   \n",
       "\n",
       "              Rt_avg        Rt_min         Rt_max         Rt_std  \\\n",
       "count  215639.000000  215639.00000  215639.000000  215639.000000   \n",
       "mean       19.490556      19.30385      19.697785       0.100994   \n",
       "std         6.685216       6.66859       6.691840       0.193629   \n",
       "min         1.780000       1.00000       2.000000       0.000000   \n",
       "25%        14.000000      14.00000      14.120000       0.000000   \n",
       "50%        19.000000      19.00000      19.000000       0.000000   \n",
       "75%        24.090000      24.00000      25.000000       0.180000   \n",
       "max       215.000000     215.00000     215.000000      39.790000   \n",
       "\n",
       "             DCs_avg        DCs_min  ...  Pas_max  Pas_std      Wa_c_avg  \\\n",
       "count  215639.000000  215639.000000  ...      0.0      0.0  33931.000000   \n",
       "mean     1088.096656     971.827998  ...      NaN      NaN    173.004551   \n",
       "std       605.395614     576.448215  ...      NaN      NaN     86.065035   \n",
       "min      -574.890000    -574.950000  ...      NaN      NaN      0.010000   \n",
       "25%       964.630000     954.940000  ...      NaN      NaN     90.075001   \n",
       "50%      1200.870000    1046.810100  ...      NaN      NaN    192.080000   \n",
       "75%      1593.030000    1390.565050  ...      NaN      NaN    236.399990   \n",
       "max      1807.600000    1802.250000  ...      NaN      NaN    360.000000   \n",
       "\n",
       "       Wa_c_min  Wa_c_max  Wa_c_std      Na_c_avg  Na_c_min  Na_c_max  \\\n",
       "count       0.0       0.0       0.0  33931.000000       0.0       0.0   \n",
       "mean        NaN       NaN       NaN    173.004551       NaN       NaN   \n",
       "std         NaN       NaN       NaN     86.065035       NaN       NaN   \n",
       "min         NaN       NaN       NaN      0.010000       NaN       NaN   \n",
       "25%         NaN       NaN       NaN     90.075001       NaN       NaN   \n",
       "50%         NaN       NaN       NaN    192.080000       NaN       NaN   \n",
       "75%         NaN       NaN       NaN    236.399990       NaN       NaN   \n",
       "max         NaN       NaN       NaN    360.000000       NaN       NaN   \n",
       "\n",
       "       Na_c_std  \n",
       "count       0.0  \n",
       "mean        NaN  \n",
       "std         NaN  \n",
       "min         NaN  \n",
       "25%         NaN  \n",
       "50%         NaN  \n",
       "75%         NaN  \n",
       "max         NaN  \n",
       "\n",
       "[8 rows x 136 columns]"
      ]
     },
     "execution_count": 4,
     "metadata": {},
     "output_type": "execute_result"
    }
   ],
   "source": [
    "df.describe()"
   ]
  },
  {
   "cell_type": "code",
   "execution_count": 5,
   "metadata": {},
   "outputs": [
    {
     "data": {
      "text/plain": [
       "(217588, 138)"
      ]
     },
     "execution_count": 5,
     "metadata": {},
     "output_type": "execute_result"
    }
   ],
   "source": [
    "df.shape"
   ]
  },
  {
   "cell_type": "markdown",
   "metadata": {},
   "source": [
    "# Analysis "
   ]
  },
  {
   "cell_type": "code",
   "execution_count": 5,
   "metadata": {},
   "outputs": [
    {
     "data": {
      "text/plain": [
       "Index(['Wind_turbine_name', 'Date_time', 'Ba_avg', 'Ba_min', 'Ba_max',\n",
       "       'Ba_std', 'Rt_avg', 'Rt_min', 'Rt_max', 'Rt_std',\n",
       "       ...\n",
       "       'Pas_max', 'Pas_std', 'Wa_c_avg', 'Wa_c_min', 'Wa_c_max', 'Wa_c_std',\n",
       "       'Na_c_avg', 'Na_c_min', 'Na_c_max', 'Na_c_std'],\n",
       "      dtype='object', length=138)"
      ]
     },
     "execution_count": 5,
     "metadata": {},
     "output_type": "execute_result"
    }
   ],
   "source": [
    "df.keys()"
   ]
  },
  {
   "cell_type": "code",
   "execution_count": 6,
   "metadata": {},
   "outputs": [
    {
     "data": {
      "text/plain": [
       "R80711    54433\n",
       "R80736    54433\n",
       "R80721    54433\n",
       "R80790    54289\n",
       "Name: Wind_turbine_name, dtype: int64"
      ]
     },
     "execution_count": 6,
     "metadata": {},
     "output_type": "execute_result"
    }
   ],
   "source": [
    "df.Wind_turbine_name.value_counts()"
   ]
  },
  {
   "cell_type": "code",
   "execution_count": 8,
   "metadata": {
    "scrolled": true
   },
   "outputs": [
    {
     "data": {
      "text/plain": [
       "(80, 120)"
      ]
     },
     "execution_count": 8,
     "metadata": {},
     "output_type": "execute_result"
    },
    {
     "data": {
      "image/png": "[encoded data removed]",
      "text/plain": [
       "<Figure size 432x288 with 1 Axes>"
      ]
     },
     "metadata": {
      "needs_background": "light"
     },
     "output_type": "display_data"
    }
   ],
   "source": [
    "plt.plot(df.Ba_avg)\n",
    "plt.ylim((80, 120))   # set the xlim to left, right"
   ]
  },
  {
   "cell_type": "markdown",
   "metadata": {},
   "source": [
    "# Feature Engineering"
   ]
  },
  {
   "cell_type": "markdown",
   "metadata": {},
   "source": [
    "### Select target"
   ]
  },
  {
   "cell_type": "code",
   "execution_count": 9,
   "metadata": {},
   "outputs": [],
   "source": [
    "target = \"Ba_avg\""
   ]
  },
  {
   "cell_type": "code",
   "execution_count": 10,
   "metadata": {},
   "outputs": [],
   "source": [
    "df = df.dropna(subset=[target], axis=0)"
   ]
  },
  {
   "cell_type": "markdown",
   "metadata": {},
   "source": [
    "### Create feature with time"
   ]
  },
  {
   "cell_type": "code",
   "execution_count": 11,
   "metadata": {
    "scrolled": true
   },
   "outputs": [
    {
     "data": {
      "text/plain": [
       "0         2017-02-08T08:00:00+01:00\n",
       "1         2017-01-26T02:40:00+01:00\n",
       "2         2017-01-26T13:50:00+01:00\n",
       "3         2017-01-26T15:00:00+01:00\n",
       "4         2017-02-18T01:10:00+01:00\n",
       "                    ...            \n",
       "217583    2017-12-13T23:10:00+01:00\n",
       "217584    2017-12-14T03:30:00+01:00\n",
       "217585    2017-12-14T04:20:00+01:00\n",
       "217586    2017-12-14T05:10:00+01:00\n",
       "217587    2017-12-14T05:50:00+01:00\n",
       "Name: Date_time, Length: 215636, dtype: object"
      ]
     },
     "execution_count": 11,
     "metadata": {},
     "output_type": "execute_result"
    }
   ],
   "source": [
    "df.Date_time"
   ]
  },
  {
   "cell_type": "code",
   "execution_count": 12,
   "metadata": {},
   "outputs": [],
   "source": [
    "df = produce_data_features(df)"
   ]
  },
  {
   "cell_type": "markdown",
   "metadata": {},
   "source": [
    "### remove columns with missing values "
   ]
  },
  {
   "cell_type": "code",
   "execution_count": 17,
   "metadata": {},
   "outputs": [
    {
     "data": {
      "text/html": [
       "<div>\n",
       "<style scoped>\n",
       "    .dataframe tbody tr th:only-of-type {\n",
       "        vertical-align: middle;\n",
       "    }\n",
       "\n",
       "    .dataframe tbody tr th {\n",
       "        vertical-align: top;\n",
       "    }\n",
       "\n",
       "    .dataframe thead th {\n",
       "        text-align: right;\n",
       "    }\n",
       "</style>\n",
       "<table border=\"1\" class=\"dataframe\">\n",
       "  <thead>\n",
       "    <tr style=\"text-align: right;\">\n",
       "      <th></th>\n",
       "      <th>Wind_turbine_name</th>\n",
       "      <th>Ba_avg</th>\n",
       "      <th>Ba_min</th>\n",
       "      <th>Ba_max</th>\n",
       "      <th>Ba_std</th>\n",
       "      <th>Rt_avg</th>\n",
       "      <th>Rt_min</th>\n",
       "      <th>Rt_max</th>\n",
       "      <th>Rt_std</th>\n",
       "      <th>DCs_avg</th>\n",
       "      <th>...</th>\n",
       "      <th>Wa_c_max</th>\n",
       "      <th>Wa_c_std</th>\n",
       "      <th>Na_c_avg</th>\n",
       "      <th>Na_c_min</th>\n",
       "      <th>Na_c_max</th>\n",
       "      <th>Na_c_std</th>\n",
       "      <th>date</th>\n",
       "      <th>year</th>\n",
       "      <th>month</th>\n",
       "      <th>season</th>\n",
       "    </tr>\n",
       "  </thead>\n",
       "  <tbody>\n",
       "    <tr>\n",
       "      <th>0</th>\n",
       "      <td>R80721</td>\n",
       "      <td>44.990002</td>\n",
       "      <td>44.990002</td>\n",
       "      <td>44.990002</td>\n",
       "      <td>0.00</td>\n",
       "      <td>14.00</td>\n",
       "      <td>14.00</td>\n",
       "      <td>14.0</td>\n",
       "      <td>0.00</td>\n",
       "      <td>38.369999</td>\n",
       "      <td>...</td>\n",
       "      <td>NaN</td>\n",
       "      <td>NaN</td>\n",
       "      <td>358.04999</td>\n",
       "      <td>NaN</td>\n",
       "      <td>NaN</td>\n",
       "      <td>NaN</td>\n",
       "      <td>2017-02-08 07:00:00+00:00</td>\n",
       "      <td>2017</td>\n",
       "      <td>2</td>\n",
       "      <td>1</td>\n",
       "    </tr>\n",
       "    <tr>\n",
       "      <th>1</th>\n",
       "      <td>R80721</td>\n",
       "      <td>-1.000000</td>\n",
       "      <td>-1.000000</td>\n",
       "      <td>-1.000000</td>\n",
       "      <td>0.00</td>\n",
       "      <td>10.00</td>\n",
       "      <td>10.00</td>\n",
       "      <td>10.0</td>\n",
       "      <td>0.00</td>\n",
       "      <td>1204.140000</td>\n",
       "      <td>...</td>\n",
       "      <td>NaN</td>\n",
       "      <td>NaN</td>\n",
       "      <td>NaN</td>\n",
       "      <td>NaN</td>\n",
       "      <td>NaN</td>\n",
       "      <td>NaN</td>\n",
       "      <td>2017-01-26 01:40:00+00:00</td>\n",
       "      <td>2017</td>\n",
       "      <td>1</td>\n",
       "      <td>1</td>\n",
       "    </tr>\n",
       "    <tr>\n",
       "      <th>2</th>\n",
       "      <td>R80721</td>\n",
       "      <td>-1.000000</td>\n",
       "      <td>-1.000000</td>\n",
       "      <td>-1.000000</td>\n",
       "      <td>0.00</td>\n",
       "      <td>10.00</td>\n",
       "      <td>10.00</td>\n",
       "      <td>10.0</td>\n",
       "      <td>0.00</td>\n",
       "      <td>1179.860000</td>\n",
       "      <td>...</td>\n",
       "      <td>NaN</td>\n",
       "      <td>NaN</td>\n",
       "      <td>NaN</td>\n",
       "      <td>NaN</td>\n",
       "      <td>NaN</td>\n",
       "      <td>NaN</td>\n",
       "      <td>2017-01-26 12:50:00+00:00</td>\n",
       "      <td>2017</td>\n",
       "      <td>1</td>\n",
       "      <td>1</td>\n",
       "    </tr>\n",
       "    <tr>\n",
       "      <th>3</th>\n",
       "      <td>R80721</td>\n",
       "      <td>-1.000000</td>\n",
       "      <td>-1.000000</td>\n",
       "      <td>-1.000000</td>\n",
       "      <td>0.00</td>\n",
       "      <td>10.00</td>\n",
       "      <td>10.00</td>\n",
       "      <td>10.0</td>\n",
       "      <td>0.00</td>\n",
       "      <td>1198.470000</td>\n",
       "      <td>...</td>\n",
       "      <td>NaN</td>\n",
       "      <td>NaN</td>\n",
       "      <td>NaN</td>\n",
       "      <td>NaN</td>\n",
       "      <td>NaN</td>\n",
       "      <td>NaN</td>\n",
       "      <td>2017-01-26 14:00:00+00:00</td>\n",
       "      <td>2017</td>\n",
       "      <td>1</td>\n",
       "      <td>1</td>\n",
       "    </tr>\n",
       "    <tr>\n",
       "      <th>4</th>\n",
       "      <td>R80721</td>\n",
       "      <td>44.990002</td>\n",
       "      <td>44.990002</td>\n",
       "      <td>44.990002</td>\n",
       "      <td>0.00</td>\n",
       "      <td>17.00</td>\n",
       "      <td>17.00</td>\n",
       "      <td>17.0</td>\n",
       "      <td>0.00</td>\n",
       "      <td>159.840000</td>\n",
       "      <td>...</td>\n",
       "      <td>NaN</td>\n",
       "      <td>NaN</td>\n",
       "      <td>7.99000</td>\n",
       "      <td>NaN</td>\n",
       "      <td>NaN</td>\n",
       "      <td>NaN</td>\n",
       "      <td>2017-02-18 00:10:00+00:00</td>\n",
       "      <td>2017</td>\n",
       "      <td>2</td>\n",
       "      <td>1</td>\n",
       "    </tr>\n",
       "    <tr>\n",
       "      <th>...</th>\n",
       "      <td>...</td>\n",
       "      <td>...</td>\n",
       "      <td>...</td>\n",
       "      <td>...</td>\n",
       "      <td>...</td>\n",
       "      <td>...</td>\n",
       "      <td>...</td>\n",
       "      <td>...</td>\n",
       "      <td>...</td>\n",
       "      <td>...</td>\n",
       "      <td>...</td>\n",
       "      <td>...</td>\n",
       "      <td>...</td>\n",
       "      <td>...</td>\n",
       "      <td>...</td>\n",
       "      <td>...</td>\n",
       "      <td>...</td>\n",
       "      <td>...</td>\n",
       "      <td>...</td>\n",
       "      <td>...</td>\n",
       "      <td>...</td>\n",
       "    </tr>\n",
       "    <tr>\n",
       "      <th>217583</th>\n",
       "      <td>R80721</td>\n",
       "      <td>1.690000</td>\n",
       "      <td>-1.020000</td>\n",
       "      <td>13.300000</td>\n",
       "      <td>3.62</td>\n",
       "      <td>15.11</td>\n",
       "      <td>15.00</td>\n",
       "      <td>16.0</td>\n",
       "      <td>0.30</td>\n",
       "      <td>1792.470000</td>\n",
       "      <td>...</td>\n",
       "      <td>NaN</td>\n",
       "      <td>NaN</td>\n",
       "      <td>NaN</td>\n",
       "      <td>NaN</td>\n",
       "      <td>NaN</td>\n",
       "      <td>NaN</td>\n",
       "      <td>2017-12-13 22:10:00+00:00</td>\n",
       "      <td>2017</td>\n",
       "      <td>12</td>\n",
       "      <td>1</td>\n",
       "    </tr>\n",
       "    <tr>\n",
       "      <th>217584</th>\n",
       "      <td>R80721</td>\n",
       "      <td>6.350000</td>\n",
       "      <td>-1.010000</td>\n",
       "      <td>18.230000</td>\n",
       "      <td>5.51</td>\n",
       "      <td>16.15</td>\n",
       "      <td>16.00</td>\n",
       "      <td>17.0</td>\n",
       "      <td>0.33</td>\n",
       "      <td>1796.490000</td>\n",
       "      <td>...</td>\n",
       "      <td>NaN</td>\n",
       "      <td>NaN</td>\n",
       "      <td>NaN</td>\n",
       "      <td>NaN</td>\n",
       "      <td>NaN</td>\n",
       "      <td>NaN</td>\n",
       "      <td>2017-12-14 02:30:00+00:00</td>\n",
       "      <td>2017</td>\n",
       "      <td>12</td>\n",
       "      <td>1</td>\n",
       "    </tr>\n",
       "    <tr>\n",
       "      <th>217585</th>\n",
       "      <td>R80721</td>\n",
       "      <td>-0.570000</td>\n",
       "      <td>-1.030000</td>\n",
       "      <td>4.320000</td>\n",
       "      <td>0.88</td>\n",
       "      <td>17.00</td>\n",
       "      <td>17.00</td>\n",
       "      <td>17.0</td>\n",
       "      <td>0.00</td>\n",
       "      <td>1792.770000</td>\n",
       "      <td>...</td>\n",
       "      <td>NaN</td>\n",
       "      <td>NaN</td>\n",
       "      <td>NaN</td>\n",
       "      <td>NaN</td>\n",
       "      <td>NaN</td>\n",
       "      <td>NaN</td>\n",
       "      <td>2017-12-14 03:20:00+00:00</td>\n",
       "      <td>2017</td>\n",
       "      <td>12</td>\n",
       "      <td>1</td>\n",
       "    </tr>\n",
       "    <tr>\n",
       "      <th>217586</th>\n",
       "      <td>R80721</td>\n",
       "      <td>-0.830000</td>\n",
       "      <td>-1.020000</td>\n",
       "      <td>3.890000</td>\n",
       "      <td>0.45</td>\n",
       "      <td>17.00</td>\n",
       "      <td>16.76</td>\n",
       "      <td>17.0</td>\n",
       "      <td>0.01</td>\n",
       "      <td>1792.550000</td>\n",
       "      <td>...</td>\n",
       "      <td>NaN</td>\n",
       "      <td>NaN</td>\n",
       "      <td>NaN</td>\n",
       "      <td>NaN</td>\n",
       "      <td>NaN</td>\n",
       "      <td>NaN</td>\n",
       "      <td>2017-12-14 04:10:00+00:00</td>\n",
       "      <td>2017</td>\n",
       "      <td>12</td>\n",
       "      <td>1</td>\n",
       "    </tr>\n",
       "    <tr>\n",
       "      <th>217587</th>\n",
       "      <td>R80721</td>\n",
       "      <td>-0.760000</td>\n",
       "      <td>-1.030000</td>\n",
       "      <td>3.860000</td>\n",
       "      <td>0.67</td>\n",
       "      <td>16.87</td>\n",
       "      <td>16.00</td>\n",
       "      <td>17.0</td>\n",
       "      <td>0.30</td>\n",
       "      <td>1791.690000</td>\n",
       "      <td>...</td>\n",
       "      <td>NaN</td>\n",
       "      <td>NaN</td>\n",
       "      <td>NaN</td>\n",
       "      <td>NaN</td>\n",
       "      <td>NaN</td>\n",
       "      <td>NaN</td>\n",
       "      <td>2017-12-14 04:50:00+00:00</td>\n",
       "      <td>2017</td>\n",
       "      <td>12</td>\n",
       "      <td>1</td>\n",
       "    </tr>\n",
       "  </tbody>\n",
       "</table>\n",
       "<p>215636 rows × 141 columns</p>\n",
       "</div>"
      ],
      "text/plain": [
       "       Wind_turbine_name     Ba_avg     Ba_min     Ba_max  Ba_std  Rt_avg  \\\n",
       "0                 R80721  44.990002  44.990002  44.990002    0.00   14.00   \n",
       "1                 R80721  -1.000000  -1.000000  -1.000000    0.00   10.00   \n",
       "2                 R80721  -1.000000  -1.000000  -1.000000    0.00   10.00   \n",
       "3                 R80721  -1.000000  -1.000000  -1.000000    0.00   10.00   \n",
       "4                 R80721  44.990002  44.990002  44.990002    0.00   17.00   \n",
       "...                  ...        ...        ...        ...     ...     ...   \n",
       "217583            R80721   1.690000  -1.020000  13.300000    3.62   15.11   \n",
       "217584            R80721   6.350000  -1.010000  18.230000    5.51   16.15   \n",
       "217585            R80721  -0.570000  -1.030000   4.320000    0.88   17.00   \n",
       "217586            R80721  -0.830000  -1.020000   3.890000    0.45   17.00   \n",
       "217587            R80721  -0.760000  -1.030000   3.860000    0.67   16.87   \n",
       "\n",
       "        Rt_min  Rt_max  Rt_std      DCs_avg  ...  Wa_c_max  Wa_c_std  \\\n",
       "0        14.00    14.0    0.00    38.369999  ...       NaN       NaN   \n",
       "1        10.00    10.0    0.00  1204.140000  ...       NaN       NaN   \n",
       "2        10.00    10.0    0.00  1179.860000  ...       NaN       NaN   \n",
       "3        10.00    10.0    0.00  1198.470000  ...       NaN       NaN   \n",
       "4        17.00    17.0    0.00   159.840000  ...       NaN       NaN   \n",
       "...        ...     ...     ...          ...  ...       ...       ...   \n",
       "217583   15.00    16.0    0.30  1792.470000  ...       NaN       NaN   \n",
       "217584   16.00    17.0    0.33  1796.490000  ...       NaN       NaN   \n",
       "217585   17.00    17.0    0.00  1792.770000  ...       NaN       NaN   \n",
       "217586   16.76    17.0    0.01  1792.550000  ...       NaN       NaN   \n",
       "217587   16.00    17.0    0.30  1791.690000  ...       NaN       NaN   \n",
       "\n",
       "         Na_c_avg  Na_c_min  Na_c_max  Na_c_std                      date  \\\n",
       "0       358.04999       NaN       NaN       NaN 2017-02-08 07:00:00+00:00   \n",
       "1             NaN       NaN       NaN       NaN 2017-01-26 01:40:00+00:00   \n",
       "2             NaN       NaN       NaN       NaN 2017-01-26 12:50:00+00:00   \n",
       "3             NaN       NaN       NaN       NaN 2017-01-26 14:00:00+00:00   \n",
       "4         7.99000       NaN       NaN       NaN 2017-02-18 00:10:00+00:00   \n",
       "...           ...       ...       ...       ...                       ...   \n",
       "217583        NaN       NaN       NaN       NaN 2017-12-13 22:10:00+00:00   \n",
       "217584        NaN       NaN       NaN       NaN 2017-12-14 02:30:00+00:00   \n",
       "217585        NaN       NaN       NaN       NaN 2017-12-14 03:20:00+00:00   \n",
       "217586        NaN       NaN       NaN       NaN 2017-12-14 04:10:00+00:00   \n",
       "217587        NaN       NaN       NaN       NaN 2017-12-14 04:50:00+00:00   \n",
       "\n",
       "        year  month  season  \n",
       "0       2017      2       1  \n",
       "1       2017      1       1  \n",
       "2       2017      1       1  \n",
       "3       2017      1       1  \n",
       "4       2017      2       1  \n",
       "...      ...    ...     ...  \n",
       "217583  2017     12       1  \n",
       "217584  2017     12       1  \n",
       "217585  2017     12       1  \n",
       "217586  2017     12       1  \n",
       "217587  2017     12       1  \n",
       "\n",
       "[215636 rows x 141 columns]"
      ]
     },
     "execution_count": 17,
     "metadata": {},
     "output_type": "execute_result"
    }
   ],
   "source": [
    "df"
   ]
  },
  {
   "cell_type": "code",
   "execution_count": 18,
   "metadata": {},
   "outputs": [
    {
     "data": {
      "text/plain": [
       "16"
      ]
     },
     "execution_count": 18,
     "metadata": {},
     "output_type": "execute_result"
    }
   ],
   "source": [
    "df.isnull().sum()[df.isnull().sum() > 100000].count()"
   ]
  },
  {
   "cell_type": "code",
   "execution_count": null,
   "metadata": {},
   "outputs": [],
   "source": []
  },
  {
   "cell_type": "code",
   "execution_count": null,
   "metadata": {},
   "outputs": [],
   "source": []
  },
  {
   "cell_type": "code",
   "execution_count": 21,
   "metadata": {},
   "outputs": [
    {
     "data": {
      "text/plain": [
       "Index(['Wind_turbine_name', 'Date_time', 'Ba_avg', 'Ba_min', 'Ba_max',\n",
       "       'Ba_std', 'Rt_avg', 'Rt_min', 'Rt_max', 'Rt_std',\n",
       "       ...\n",
       "       'Wa_c_max', 'Wa_c_std', 'Na_c_avg', 'Na_c_min', 'Na_c_max', 'Na_c_std',\n",
       "       'date', 'year', 'month', 'season'],\n",
       "      dtype='object', length=142)"
      ]
     },
     "execution_count": 21,
     "metadata": {},
     "output_type": "execute_result"
    }
   ],
   "source": [
    "df.keys()"
   ]
  },
  {
   "cell_type": "code",
   "execution_count": 21,
   "metadata": {},
   "outputs": [],
   "source": [
    "X = df.drop(columns=[\"Wind_turbine_name\", target, \"Ba_min\", \"Ba_max\", \"Ba_std\"])"
   ]
  },
  {
   "cell_type": "code",
   "execution_count": null,
   "metadata": {},
   "outputs": [],
   "source": []
  },
  {
   "cell_type": "code",
   "execution_count": null,
   "metadata": {},
   "outputs": [],
   "source": []
  },
  {
   "cell_type": "code",
   "execution_count": 22,
   "metadata": {},
   "outputs": [
    {
     "data": {
      "text/plain": [
       "Rt_avg           0\n",
       "Rt_min           0\n",
       "Rt_max           0\n",
       "Rt_std           0\n",
       "DCs_avg          0\n",
       "             ...  \n",
       "Na_c_std    215636\n",
       "date             0\n",
       "year             0\n",
       "month            0\n",
       "season           0\n",
       "Length: 136, dtype: int64"
      ]
     },
     "execution_count": 22,
     "metadata": {},
     "output_type": "execute_result"
    }
   ],
   "source": [
    "X.isnull().sum()"
   ]
  },
  {
   "cell_type": "code",
   "execution_count": null,
   "metadata": {},
   "outputs": [],
   "source": []
  },
  {
   "cell_type": "code",
   "execution_count": 23,
   "metadata": {},
   "outputs": [
    {
     "data": {
      "text/plain": [
       "16"
      ]
     },
     "execution_count": 23,
     "metadata": {},
     "output_type": "execute_result"
    }
   ],
   "source": [
    "X.isnull().sum()[X.isnull().sum() > 100000].count()"
   ]
  },
  {
   "cell_type": "code",
   "execution_count": null,
   "metadata": {},
   "outputs": [],
   "source": []
  },
  {
   "cell_type": "code",
   "execution_count": 24,
   "metadata": {},
   "outputs": [],
   "source": [
    "X = X.fillna(0)"
   ]
  },
  {
   "cell_type": "code",
   "execution_count": null,
   "metadata": {},
   "outputs": [],
   "source": []
  },
  {
   "cell_type": "code",
   "execution_count": 25,
   "metadata": {},
   "outputs": [],
   "source": [
    "y = df[target]"
   ]
  },
  {
   "cell_type": "code",
   "execution_count": null,
   "metadata": {},
   "outputs": [],
   "source": []
  },
  {
   "cell_type": "markdown",
   "metadata": {},
   "source": [
    "### Split Dataset into train and test"
   ]
  },
  {
   "cell_type": "code",
   "execution_count": 26,
   "metadata": {},
   "outputs": [],
   "source": [
    "X_train, X_test, y_train, y_test = train_test_split(X, y, test_size=0.33, random_state=42)"
   ]
  },
  {
   "cell_type": "code",
   "execution_count": null,
   "metadata": {},
   "outputs": [],
   "source": []
  },
  {
   "cell_type": "markdown",
   "metadata": {},
   "source": [
    "# Random forest model"
   ]
  },
  {
   "cell_type": "markdown",
   "metadata": {},
   "source": [
    "## Training "
   ]
  },
  {
   "cell_type": "code",
   "execution_count": 27,
   "metadata": {},
   "outputs": [],
   "source": [
    "model = RandomForestRegressor(n_estimators=100, max_depth=10, n_jobs=6)"
   ]
  },
  {
   "cell_type": "code",
   "execution_count": null,
   "metadata": {},
   "outputs": [],
   "source": []
  },
  {
   "cell_type": "code",
   "execution_count": 28,
   "metadata": {},
   "outputs": [
    {
     "ename": "TypeError",
     "evalue": "float() argument must be a string or a number, not 'Timestamp'",
     "output_type": "error",
     "traceback": [
      "\u001b[0;31m---------------------------------------------------------------------------\u001b[0m",
      "\u001b[0;31mTypeError\u001b[0m                                 Traceback (most recent call last)",
      "\u001b[0;32m<ipython-input-28-d768f88d541e>\u001b[0m in \u001b[0;36m<module>\u001b[0;34m\u001b[0m\n\u001b[0;32m----> 1\u001b[0;31m \u001b[0mmodel\u001b[0m\u001b[0;34m.\u001b[0m\u001b[0mfit\u001b[0m\u001b[0;34m(\u001b[0m\u001b[0mX_train\u001b[0m\u001b[0;34m,\u001b[0m \u001b[0my_train\u001b[0m\u001b[0;34m)\u001b[0m\u001b[0;34m\u001b[0m\u001b[0m\n\u001b[0m",
      "\u001b[0;32m/opt/anaconda3/lib/python3.6/site-packages/sklearn/ensemble/_forest.py\u001b[0m in \u001b[0;36mfit\u001b[0;34m(self, X, y, sample_weight)\u001b[0m\n\u001b[1;32m    293\u001b[0m         \"\"\"\n\u001b[1;32m    294\u001b[0m         \u001b[0;31m# Validate or convert input data\u001b[0m\u001b[0;34m\u001b[0m\u001b[0;34m\u001b[0m\u001b[0m\n\u001b[0;32m--> 295\u001b[0;31m         \u001b[0mX\u001b[0m \u001b[0;34m=\u001b[0m \u001b[0mcheck_array\u001b[0m\u001b[0;34m(\u001b[0m\u001b[0mX\u001b[0m\u001b[0;34m,\u001b[0m \u001b[0maccept_sparse\u001b[0m\u001b[0;34m=\u001b[0m\u001b[0;34m\"csc\"\u001b[0m\u001b[0;34m,\u001b[0m \u001b[0mdtype\u001b[0m\u001b[0;34m=\u001b[0m\u001b[0mDTYPE\u001b[0m\u001b[0;34m)\u001b[0m\u001b[0;34m\u001b[0m\u001b[0m\n\u001b[0m\u001b[1;32m    296\u001b[0m         \u001b[0my\u001b[0m \u001b[0;34m=\u001b[0m \u001b[0mcheck_array\u001b[0m\u001b[0;34m(\u001b[0m\u001b[0my\u001b[0m\u001b[0;34m,\u001b[0m \u001b[0maccept_sparse\u001b[0m\u001b[0;34m=\u001b[0m\u001b[0;34m'csc'\u001b[0m\u001b[0;34m,\u001b[0m \u001b[0mensure_2d\u001b[0m\u001b[0;34m=\u001b[0m\u001b[0;32mFalse\u001b[0m\u001b[0;34m,\u001b[0m \u001b[0mdtype\u001b[0m\u001b[0;34m=\u001b[0m\u001b[0;32mNone\u001b[0m\u001b[0;34m)\u001b[0m\u001b[0;34m\u001b[0m\u001b[0m\n\u001b[1;32m    297\u001b[0m         \u001b[0;32mif\u001b[0m \u001b[0msample_weight\u001b[0m \u001b[0;32mis\u001b[0m \u001b[0;32mnot\u001b[0m \u001b[0;32mNone\u001b[0m\u001b[0;34m:\u001b[0m\u001b[0;34m\u001b[0m\u001b[0m\n",
      "\u001b[0;32m/opt/anaconda3/lib/python3.6/site-packages/sklearn/utils/validation.py\u001b[0m in \u001b[0;36mcheck_array\u001b[0;34m(array, accept_sparse, accept_large_sparse, dtype, order, copy, force_all_finite, ensure_2d, allow_nd, ensure_min_samples, ensure_min_features, warn_on_dtype, estimator)\u001b[0m\n\u001b[1;32m    529\u001b[0m                     \u001b[0marray\u001b[0m \u001b[0;34m=\u001b[0m \u001b[0marray\u001b[0m\u001b[0;34m.\u001b[0m\u001b[0mastype\u001b[0m\u001b[0;34m(\u001b[0m\u001b[0mdtype\u001b[0m\u001b[0;34m,\u001b[0m \u001b[0mcasting\u001b[0m\u001b[0;34m=\u001b[0m\u001b[0;34m\"unsafe\"\u001b[0m\u001b[0;34m,\u001b[0m \u001b[0mcopy\u001b[0m\u001b[0;34m=\u001b[0m\u001b[0;32mFalse\u001b[0m\u001b[0;34m)\u001b[0m\u001b[0;34m\u001b[0m\u001b[0m\n\u001b[1;32m    530\u001b[0m                 \u001b[0;32melse\u001b[0m\u001b[0;34m:\u001b[0m\u001b[0;34m\u001b[0m\u001b[0m\n\u001b[0;32m--> 531\u001b[0;31m                     \u001b[0marray\u001b[0m \u001b[0;34m=\u001b[0m \u001b[0mnp\u001b[0m\u001b[0;34m.\u001b[0m\u001b[0masarray\u001b[0m\u001b[0;34m(\u001b[0m\u001b[0marray\u001b[0m\u001b[0;34m,\u001b[0m \u001b[0morder\u001b[0m\u001b[0;34m=\u001b[0m\u001b[0morder\u001b[0m\u001b[0;34m,\u001b[0m \u001b[0mdtype\u001b[0m\u001b[0;34m=\u001b[0m\u001b[0mdtype\u001b[0m\u001b[0;34m)\u001b[0m\u001b[0;34m\u001b[0m\u001b[0m\n\u001b[0m\u001b[1;32m    532\u001b[0m             \u001b[0;32mexcept\u001b[0m \u001b[0mComplexWarning\u001b[0m\u001b[0;34m:\u001b[0m\u001b[0;34m\u001b[0m\u001b[0m\n\u001b[1;32m    533\u001b[0m                 raise ValueError(\"Complex data not supported\\n\"\n",
      "\u001b[0;32m/opt/anaconda3/lib/python3.6/site-packages/numpy/core/_asarray.py\u001b[0m in \u001b[0;36masarray\u001b[0;34m(a, dtype, order)\u001b[0m\n\u001b[1;32m     83\u001b[0m \u001b[0;34m\u001b[0m\u001b[0m\n\u001b[1;32m     84\u001b[0m     \"\"\"\n\u001b[0;32m---> 85\u001b[0;31m     \u001b[0;32mreturn\u001b[0m \u001b[0marray\u001b[0m\u001b[0;34m(\u001b[0m\u001b[0ma\u001b[0m\u001b[0;34m,\u001b[0m \u001b[0mdtype\u001b[0m\u001b[0;34m,\u001b[0m \u001b[0mcopy\u001b[0m\u001b[0;34m=\u001b[0m\u001b[0;32mFalse\u001b[0m\u001b[0;34m,\u001b[0m \u001b[0morder\u001b[0m\u001b[0;34m=\u001b[0m\u001b[0morder\u001b[0m\u001b[0;34m)\u001b[0m\u001b[0;34m\u001b[0m\u001b[0m\n\u001b[0m\u001b[1;32m     86\u001b[0m \u001b[0;34m\u001b[0m\u001b[0m\n\u001b[1;32m     87\u001b[0m \u001b[0;34m\u001b[0m\u001b[0m\n",
      "\u001b[0;31mTypeError\u001b[0m: float() argument must be a string or a number, not 'Timestamp'"
     ]
    }
   ],
   "source": [
    "model.fit(X_train, y_train)"
   ]
  },
  {
   "cell_type": "code",
   "execution_count": null,
   "metadata": {},
   "outputs": [],
   "source": []
  },
  {
   "cell_type": "markdown",
   "metadata": {},
   "source": [
    "## Prediction "
   ]
  },
  {
   "cell_type": "code",
   "execution_count": 16,
   "metadata": {},
   "outputs": [
    {
     "data": {
      "text/plain": [
       "False    0.915318\n",
       "True     0.084682\n",
       "Name: Ba_avg, dtype: float64"
      ]
     },
     "execution_count": 16,
     "metadata": {},
     "output_type": "execute_result"
    }
   ],
   "source": [
    "y_pred_test = model.predict(X_test)\n",
    "((y_pred_test - y_test) > 0.2).value_counts() / len(y_test)"
   ]
  },
  {
   "cell_type": "code",
   "execution_count": 17,
   "metadata": {},
   "outputs": [
    {
     "data": {
      "text/plain": [
       "False    0.918215\n",
       "True     0.081785\n",
       "Name: Ba_avg, dtype: float64"
      ]
     },
     "execution_count": 17,
     "metadata": {},
     "output_type": "execute_result"
    }
   ],
   "source": [
    "y_pred_train = model.predict(X_train)\n",
    "((y_pred_train - y_train) > 0.2).value_counts() / len(y_train)"
   ]
  }
 ],
 "metadata": {
  "kernelspec": {
   "display_name": "Python 3",
   "language": "python",
   "name": "python3"
  },
  "language_info": {
   "codemirror_mode": {
    "name": "ipython",
    "version": 3
   },
   "file_extension": ".py",
   "mimetype": "text/x-python",
   "name": "python",
   "nbconvert_exporter": "python",
   "pygments_lexer": "ipython3",
   "version": "3.6.6"
  }
 },
 "nbformat": 4,
 "nbformat_minor": 2
}
