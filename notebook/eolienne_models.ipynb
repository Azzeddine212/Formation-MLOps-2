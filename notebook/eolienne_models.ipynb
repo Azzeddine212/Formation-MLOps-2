{
 "cells": [
  {
   "cell_type": "markdown",
   "metadata": {},
   "source": [
    "# Imports Libraries"
   ]
  },
  {
   "cell_type": "code",
   "execution_count": null,
   "metadata": {},
   "outputs": [],
   "source": [
    "import pandas as pd\n",
    "from sklearn.ensemble import RandomForestRegressor\n",
    "from sklearn.model_selection import train_test_split\n",
    "import matplotlib.pyplot as plt\n",
    "import matplotlib.dates\n",
    "\n",
    "from datetime import date, datetime\n",
    "\n",
    "import sys\n",
    "sys.path.append(\"../src/\")\n",
    "from feature_engineering import produce_data_features, get_season\n",
    "\n",
    "%matplotlib inline"
   ]
  },
  {
   "cell_type": "markdown",
   "metadata": {},
   "source": [
    "# Load data"
   ]
  },
  {
   "cell_type": "code",
   "execution_count": null,
   "metadata": {
    "pycharm": {
     "is_executing": true
    }
   },
   "outputs": [],
   "source": [
    "#df = pd.read_csv(\"/Users/ismail.lachheb/Projects/dsin2/la-haute-borne-data-2017-2020.csv\", sep=\";\")\n",
    "df = pd.read_csv(\"/Users/lea.naccache/CODE/cercle_formation/la-haute-borne-data-2017-2020.csv\", sep=\";\")"
   ]
  },
  {
   "cell_type": "code",
   "execution_count": null,
   "metadata": {},
   "outputs": [],
   "source": [
    "df.describe()"
   ]
  },
  {
   "cell_type": "code",
   "execution_count": null,
   "metadata": {},
   "outputs": [],
   "source": [
    "df.shape"
   ]
  },
  {
   "cell_type": "markdown",
   "metadata": {},
   "source": [
    "# Analysis "
   ]
  },
  {
   "cell_type": "code",
   "execution_count": null,
   "metadata": {},
   "outputs": [],
   "source": [
    "df.keys()"
   ]
  },
  {
   "cell_type": "code",
   "execution_count": null,
   "metadata": {},
   "outputs": [],
   "source": [
    "df.Wind_turbine_name.value_counts()"
   ]
  },
  {
   "cell_type": "code",
   "execution_count": null,
   "metadata": {
    "scrolled": true
   },
   "outputs": [],
   "source": [
    "plt.plot(df.Ba_avg)\n",
    "plt.ylim((80, 120))   # set the xlim to left, right"
   ]
  },
  {
   "cell_type": "markdown",
   "metadata": {},
   "source": [
    "# Feature Engineering"
   ]
  },
  {
   "cell_type": "markdown",
   "metadata": {},
   "source": [
    "### Select target"
   ]
  },
  {
   "cell_type": "code",
   "execution_count": 8,
   "metadata": {},
   "outputs": [],
   "source": [
    "target = \"Ba_avg\""
   ]
  },
  {
   "cell_type": "code",
   "execution_count": 9,
   "metadata": {},
   "outputs": [],
   "source": [
    "df = df.dropna(subset=[target], axis=0)"
   ]
  },
  {
   "cell_type": "markdown",
   "metadata": {},
   "source": [
    "### Create feature with time"
   ]
  },
  {
   "cell_type": "code",
   "execution_count": 10,
   "metadata": {},
   "outputs": [],
   "source": [
    "df = produce_data_features(df)"
   ]
  },
  {
   "cell_type": "markdown",
   "metadata": {},
   "source": [
    "### remove columns with missing values "
   ]
  },
  {
   "cell_type": "code",
   "execution_count": 11,
   "metadata": {},
   "outputs": [
    {
     "data": {
      "text/html": [
       "<div>\n",
       "<style scoped>\n",
       "    .dataframe tbody tr th:only-of-type {\n",
       "        vertical-align: middle;\n",
       "    }\n",
       "\n",
       "    .dataframe tbody tr th {\n",
       "        vertical-align: top;\n",
       "    }\n",
       "\n",
       "    .dataframe thead th {\n",
       "        text-align: right;\n",
       "    }\n",
       "</style>\n",
       "<table border=\"1\" class=\"dataframe\">\n",
       "  <thead>\n",
       "    <tr style=\"text-align: right;\">\n",
       "      <th></th>\n",
       "      <th>Wind_turbine_name</th>\n",
       "      <th>Date_time</th>\n",
       "      <th>Ba_avg</th>\n",
       "      <th>Ba_min</th>\n",
       "      <th>Ba_max</th>\n",
       "      <th>Ba_std</th>\n",
       "      <th>Rt_avg</th>\n",
       "      <th>Rt_min</th>\n",
       "      <th>Rt_max</th>\n",
       "      <th>Rt_std</th>\n",
       "      <th>...</th>\n",
       "      <th>Wa_c_max</th>\n",
       "      <th>Wa_c_std</th>\n",
       "      <th>Na_c_avg</th>\n",
       "      <th>Na_c_min</th>\n",
       "      <th>Na_c_max</th>\n",
       "      <th>Na_c_std</th>\n",
       "      <th>date</th>\n",
       "      <th>year</th>\n",
       "      <th>month</th>\n",
       "      <th>season</th>\n",
       "    </tr>\n",
       "  </thead>\n",
       "  <tbody>\n",
       "    <tr>\n",
       "      <th>0</th>\n",
       "      <td>R80721</td>\n",
       "      <td>2017-02-08T08:00:00+01:00</td>\n",
       "      <td>44.990002</td>\n",
       "      <td>44.990002</td>\n",
       "      <td>44.990002</td>\n",
       "      <td>0.00</td>\n",
       "      <td>14.00</td>\n",
       "      <td>14.00</td>\n",
       "      <td>14.0</td>\n",
       "      <td>0.00</td>\n",
       "      <td>...</td>\n",
       "      <td>NaN</td>\n",
       "      <td>NaN</td>\n",
       "      <td>358.04999</td>\n",
       "      <td>NaN</td>\n",
       "      <td>NaN</td>\n",
       "      <td>NaN</td>\n",
       "      <td>2017-02-08 07:00:00+00:00</td>\n",
       "      <td>2017</td>\n",
       "      <td>2</td>\n",
       "      <td>1</td>\n",
       "    </tr>\n",
       "    <tr>\n",
       "      <th>1</th>\n",
       "      <td>R80721</td>\n",
       "      <td>2017-01-26T02:40:00+01:00</td>\n",
       "      <td>-1.000000</td>\n",
       "      <td>-1.000000</td>\n",
       "      <td>-1.000000</td>\n",
       "      <td>0.00</td>\n",
       "      <td>10.00</td>\n",
       "      <td>10.00</td>\n",
       "      <td>10.0</td>\n",
       "      <td>0.00</td>\n",
       "      <td>...</td>\n",
       "      <td>NaN</td>\n",
       "      <td>NaN</td>\n",
       "      <td>NaN</td>\n",
       "      <td>NaN</td>\n",
       "      <td>NaN</td>\n",
       "      <td>NaN</td>\n",
       "      <td>2017-01-26 01:40:00+00:00</td>\n",
       "      <td>2017</td>\n",
       "      <td>1</td>\n",
       "      <td>1</td>\n",
       "    </tr>\n",
       "    <tr>\n",
       "      <th>2</th>\n",
       "      <td>R80721</td>\n",
       "      <td>2017-01-26T13:50:00+01:00</td>\n",
       "      <td>-1.000000</td>\n",
       "      <td>-1.000000</td>\n",
       "      <td>-1.000000</td>\n",
       "      <td>0.00</td>\n",
       "      <td>10.00</td>\n",
       "      <td>10.00</td>\n",
       "      <td>10.0</td>\n",
       "      <td>0.00</td>\n",
       "      <td>...</td>\n",
       "      <td>NaN</td>\n",
       "      <td>NaN</td>\n",
       "      <td>NaN</td>\n",
       "      <td>NaN</td>\n",
       "      <td>NaN</td>\n",
       "      <td>NaN</td>\n",
       "      <td>2017-01-26 12:50:00+00:00</td>\n",
       "      <td>2017</td>\n",
       "      <td>1</td>\n",
       "      <td>1</td>\n",
       "    </tr>\n",
       "    <tr>\n",
       "      <th>3</th>\n",
       "      <td>R80721</td>\n",
       "      <td>2017-01-26T15:00:00+01:00</td>\n",
       "      <td>-1.000000</td>\n",
       "      <td>-1.000000</td>\n",
       "      <td>-1.000000</td>\n",
       "      <td>0.00</td>\n",
       "      <td>10.00</td>\n",
       "      <td>10.00</td>\n",
       "      <td>10.0</td>\n",
       "      <td>0.00</td>\n",
       "      <td>...</td>\n",
       "      <td>NaN</td>\n",
       "      <td>NaN</td>\n",
       "      <td>NaN</td>\n",
       "      <td>NaN</td>\n",
       "      <td>NaN</td>\n",
       "      <td>NaN</td>\n",
       "      <td>2017-01-26 14:00:00+00:00</td>\n",
       "      <td>2017</td>\n",
       "      <td>1</td>\n",
       "      <td>1</td>\n",
       "    </tr>\n",
       "    <tr>\n",
       "      <th>4</th>\n",
       "      <td>R80721</td>\n",
       "      <td>2017-02-18T01:10:00+01:00</td>\n",
       "      <td>44.990002</td>\n",
       "      <td>44.990002</td>\n",
       "      <td>44.990002</td>\n",
       "      <td>0.00</td>\n",
       "      <td>17.00</td>\n",
       "      <td>17.00</td>\n",
       "      <td>17.0</td>\n",
       "      <td>0.00</td>\n",
       "      <td>...</td>\n",
       "      <td>NaN</td>\n",
       "      <td>NaN</td>\n",
       "      <td>7.99000</td>\n",
       "      <td>NaN</td>\n",
       "      <td>NaN</td>\n",
       "      <td>NaN</td>\n",
       "      <td>2017-02-18 00:10:00+00:00</td>\n",
       "      <td>2017</td>\n",
       "      <td>2</td>\n",
       "      <td>1</td>\n",
       "    </tr>\n",
       "    <tr>\n",
       "      <th>...</th>\n",
       "      <td>...</td>\n",
       "      <td>...</td>\n",
       "      <td>...</td>\n",
       "      <td>...</td>\n",
       "      <td>...</td>\n",
       "      <td>...</td>\n",
       "      <td>...</td>\n",
       "      <td>...</td>\n",
       "      <td>...</td>\n",
       "      <td>...</td>\n",
       "      <td>...</td>\n",
       "      <td>...</td>\n",
       "      <td>...</td>\n",
       "      <td>...</td>\n",
       "      <td>...</td>\n",
       "      <td>...</td>\n",
       "      <td>...</td>\n",
       "      <td>...</td>\n",
       "      <td>...</td>\n",
       "      <td>...</td>\n",
       "      <td>...</td>\n",
       "    </tr>\n",
       "    <tr>\n",
       "      <th>217583</th>\n",
       "      <td>R80721</td>\n",
       "      <td>2017-12-13T23:10:00+01:00</td>\n",
       "      <td>1.690000</td>\n",
       "      <td>-1.020000</td>\n",
       "      <td>13.300000</td>\n",
       "      <td>3.62</td>\n",
       "      <td>15.11</td>\n",
       "      <td>15.00</td>\n",
       "      <td>16.0</td>\n",
       "      <td>0.30</td>\n",
       "      <td>...</td>\n",
       "      <td>NaN</td>\n",
       "      <td>NaN</td>\n",
       "      <td>NaN</td>\n",
       "      <td>NaN</td>\n",
       "      <td>NaN</td>\n",
       "      <td>NaN</td>\n",
       "      <td>2017-12-13 22:10:00+00:00</td>\n",
       "      <td>2017</td>\n",
       "      <td>12</td>\n",
       "      <td>1</td>\n",
       "    </tr>\n",
       "    <tr>\n",
       "      <th>217584</th>\n",
       "      <td>R80721</td>\n",
       "      <td>2017-12-14T03:30:00+01:00</td>\n",
       "      <td>6.350000</td>\n",
       "      <td>-1.010000</td>\n",
       "      <td>18.230000</td>\n",
       "      <td>5.51</td>\n",
       "      <td>16.15</td>\n",
       "      <td>16.00</td>\n",
       "      <td>17.0</td>\n",
       "      <td>0.33</td>\n",
       "      <td>...</td>\n",
       "      <td>NaN</td>\n",
       "      <td>NaN</td>\n",
       "      <td>NaN</td>\n",
       "      <td>NaN</td>\n",
       "      <td>NaN</td>\n",
       "      <td>NaN</td>\n",
       "      <td>2017-12-14 02:30:00+00:00</td>\n",
       "      <td>2017</td>\n",
       "      <td>12</td>\n",
       "      <td>1</td>\n",
       "    </tr>\n",
       "    <tr>\n",
       "      <th>217585</th>\n",
       "      <td>R80721</td>\n",
       "      <td>2017-12-14T04:20:00+01:00</td>\n",
       "      <td>-0.570000</td>\n",
       "      <td>-1.030000</td>\n",
       "      <td>4.320000</td>\n",
       "      <td>0.88</td>\n",
       "      <td>17.00</td>\n",
       "      <td>17.00</td>\n",
       "      <td>17.0</td>\n",
       "      <td>0.00</td>\n",
       "      <td>...</td>\n",
       "      <td>NaN</td>\n",
       "      <td>NaN</td>\n",
       "      <td>NaN</td>\n",
       "      <td>NaN</td>\n",
       "      <td>NaN</td>\n",
       "      <td>NaN</td>\n",
       "      <td>2017-12-14 03:20:00+00:00</td>\n",
       "      <td>2017</td>\n",
       "      <td>12</td>\n",
       "      <td>1</td>\n",
       "    </tr>\n",
       "    <tr>\n",
       "      <th>217586</th>\n",
       "      <td>R80721</td>\n",
       "      <td>2017-12-14T05:10:00+01:00</td>\n",
       "      <td>-0.830000</td>\n",
       "      <td>-1.020000</td>\n",
       "      <td>3.890000</td>\n",
       "      <td>0.45</td>\n",
       "      <td>17.00</td>\n",
       "      <td>16.76</td>\n",
       "      <td>17.0</td>\n",
       "      <td>0.01</td>\n",
       "      <td>...</td>\n",
       "      <td>NaN</td>\n",
       "      <td>NaN</td>\n",
       "      <td>NaN</td>\n",
       "      <td>NaN</td>\n",
       "      <td>NaN</td>\n",
       "      <td>NaN</td>\n",
       "      <td>2017-12-14 04:10:00+00:00</td>\n",
       "      <td>2017</td>\n",
       "      <td>12</td>\n",
       "      <td>1</td>\n",
       "    </tr>\n",
       "    <tr>\n",
       "      <th>217587</th>\n",
       "      <td>R80721</td>\n",
       "      <td>2017-12-14T05:50:00+01:00</td>\n",
       "      <td>-0.760000</td>\n",
       "      <td>-1.030000</td>\n",
       "      <td>3.860000</td>\n",
       "      <td>0.67</td>\n",
       "      <td>16.87</td>\n",
       "      <td>16.00</td>\n",
       "      <td>17.0</td>\n",
       "      <td>0.30</td>\n",
       "      <td>...</td>\n",
       "      <td>NaN</td>\n",
       "      <td>NaN</td>\n",
       "      <td>NaN</td>\n",
       "      <td>NaN</td>\n",
       "      <td>NaN</td>\n",
       "      <td>NaN</td>\n",
       "      <td>2017-12-14 04:50:00+00:00</td>\n",
       "      <td>2017</td>\n",
       "      <td>12</td>\n",
       "      <td>1</td>\n",
       "    </tr>\n",
       "  </tbody>\n",
       "</table>\n",
       "<p>215636 rows × 142 columns</p>\n",
       "</div>"
      ],
      "text/plain": [
       "       Wind_turbine_name                  Date_time     Ba_avg     Ba_min  \\\n",
       "0                 R80721  2017-02-08T08:00:00+01:00  44.990002  44.990002   \n",
       "1                 R80721  2017-01-26T02:40:00+01:00  -1.000000  -1.000000   \n",
       "2                 R80721  2017-01-26T13:50:00+01:00  -1.000000  -1.000000   \n",
       "3                 R80721  2017-01-26T15:00:00+01:00  -1.000000  -1.000000   \n",
       "4                 R80721  2017-02-18T01:10:00+01:00  44.990002  44.990002   \n",
       "...                  ...                        ...        ...        ...   \n",
       "217583            R80721  2017-12-13T23:10:00+01:00   1.690000  -1.020000   \n",
       "217584            R80721  2017-12-14T03:30:00+01:00   6.350000  -1.010000   \n",
       "217585            R80721  2017-12-14T04:20:00+01:00  -0.570000  -1.030000   \n",
       "217586            R80721  2017-12-14T05:10:00+01:00  -0.830000  -1.020000   \n",
       "217587            R80721  2017-12-14T05:50:00+01:00  -0.760000  -1.030000   \n",
       "\n",
       "           Ba_max  Ba_std  Rt_avg  Rt_min  Rt_max  Rt_std  ...  Wa_c_max  \\\n",
       "0       44.990002    0.00   14.00   14.00    14.0    0.00  ...       NaN   \n",
       "1       -1.000000    0.00   10.00   10.00    10.0    0.00  ...       NaN   \n",
       "2       -1.000000    0.00   10.00   10.00    10.0    0.00  ...       NaN   \n",
       "3       -1.000000    0.00   10.00   10.00    10.0    0.00  ...       NaN   \n",
       "4       44.990002    0.00   17.00   17.00    17.0    0.00  ...       NaN   \n",
       "...           ...     ...     ...     ...     ...     ...  ...       ...   \n",
       "217583  13.300000    3.62   15.11   15.00    16.0    0.30  ...       NaN   \n",
       "217584  18.230000    5.51   16.15   16.00    17.0    0.33  ...       NaN   \n",
       "217585   4.320000    0.88   17.00   17.00    17.0    0.00  ...       NaN   \n",
       "217586   3.890000    0.45   17.00   16.76    17.0    0.01  ...       NaN   \n",
       "217587   3.860000    0.67   16.87   16.00    17.0    0.30  ...       NaN   \n",
       "\n",
       "        Wa_c_std   Na_c_avg  Na_c_min  Na_c_max  Na_c_std  \\\n",
       "0            NaN  358.04999       NaN       NaN       NaN   \n",
       "1            NaN        NaN       NaN       NaN       NaN   \n",
       "2            NaN        NaN       NaN       NaN       NaN   \n",
       "3            NaN        NaN       NaN       NaN       NaN   \n",
       "4            NaN    7.99000       NaN       NaN       NaN   \n",
       "...          ...        ...       ...       ...       ...   \n",
       "217583       NaN        NaN       NaN       NaN       NaN   \n",
       "217584       NaN        NaN       NaN       NaN       NaN   \n",
       "217585       NaN        NaN       NaN       NaN       NaN   \n",
       "217586       NaN        NaN       NaN       NaN       NaN   \n",
       "217587       NaN        NaN       NaN       NaN       NaN   \n",
       "\n",
       "                            date  year  month  season  \n",
       "0      2017-02-08 07:00:00+00:00  2017      2       1  \n",
       "1      2017-01-26 01:40:00+00:00  2017      1       1  \n",
       "2      2017-01-26 12:50:00+00:00  2017      1       1  \n",
       "3      2017-01-26 14:00:00+00:00  2017      1       1  \n",
       "4      2017-02-18 00:10:00+00:00  2017      2       1  \n",
       "...                          ...   ...    ...     ...  \n",
       "217583 2017-12-13 22:10:00+00:00  2017     12       1  \n",
       "217584 2017-12-14 02:30:00+00:00  2017     12       1  \n",
       "217585 2017-12-14 03:20:00+00:00  2017     12       1  \n",
       "217586 2017-12-14 04:10:00+00:00  2017     12       1  \n",
       "217587 2017-12-14 04:50:00+00:00  2017     12       1  \n",
       "\n",
       "[215636 rows x 142 columns]"
      ]
     },
     "execution_count": 11,
     "metadata": {},
     "output_type": "execute_result"
    }
   ],
   "source": [
    "df"
   ]
  },
  {
   "cell_type": "code",
   "execution_count": 12,
   "metadata": {},
   "outputs": [
    {
     "data": {
      "text/plain": [
       "16"
      ]
     },
     "execution_count": 12,
     "metadata": {},
     "output_type": "execute_result"
    }
   ],
   "source": [
    "df.isnull().sum()[df.isnull().sum() > 100000].count()"
   ]
  },
  {
   "cell_type": "code",
   "execution_count": 13,
   "metadata": {},
   "outputs": [],
   "source": [
    "X = df.drop(columns=[\"Wind_turbine_name\", target, \"Ba_min\", \"Ba_max\", \"Ba_std\", \"Date_time\", \"date\"])\n",
    "y = df[target]"
   ]
  },
  {
   "cell_type": "code",
   "execution_count": 14,
   "metadata": {},
   "outputs": [
    {
     "data": {
      "text/plain": [
       "60"
      ]
     },
     "execution_count": 14,
     "metadata": {},
     "output_type": "execute_result"
    }
   ],
   "source": [
    "X.isnull().sum()[X.isnull().sum() > 0].count()"
   ]
  },
  {
   "cell_type": "code",
   "execution_count": 15,
   "metadata": {},
   "outputs": [
    {
     "data": {
      "text/plain": [
       "Q_avg         3330\n",
       "Q_min         3330\n",
       "Q_max         3330\n",
       "Q_std         3330\n",
       "S_avg            3\n",
       "S_min            3\n",
       "S_max            3\n",
       "S_std            3\n",
       "Ds_avg        1271\n",
       "Ds_min        1271\n",
       "Ds_max        1271\n",
       "Ds_std        1271\n",
       "Ws1_avg        988\n",
       "Ws1_min        988\n",
       "Ws1_max        988\n",
       "Ws1_std        988\n",
       "Ws2_avg        952\n",
       "Ws2_min        952\n",
       "Ws2_max        952\n",
       "Ws2_std        952\n",
       "Va1_avg      77132\n",
       "Va1_min      77132\n",
       "Va1_max      77132\n",
       "Va1_std      77132\n",
       "Va2_avg      77132\n",
       "Va2_min      77132\n",
       "Va2_max      77132\n",
       "Va2_std      77132\n",
       "Va_avg      138504\n",
       "Va_min      138504\n",
       "Va_max      138504\n",
       "Va_std      138504\n",
       "Nf_avg           3\n",
       "Nf_min           3\n",
       "Nf_max           3\n",
       "Nf_std           3\n",
       "Nu_avg           3\n",
       "Nu_min           3\n",
       "Nu_max           3\n",
       "Nu_std           3\n",
       "Rs_avg        2832\n",
       "Rs_min        2832\n",
       "Rs_max        2832\n",
       "Rs_std        2832\n",
       "Rm_avg        3551\n",
       "Rm_min        3551\n",
       "Rm_max        3551\n",
       "Rm_std        3551\n",
       "Pas_avg     215636\n",
       "Pas_min     215636\n",
       "Pas_max     215636\n",
       "Pas_std     215636\n",
       "Wa_c_avg    181705\n",
       "Wa_c_min    215636\n",
       "Wa_c_max    215636\n",
       "Wa_c_std    215636\n",
       "Na_c_avg    181705\n",
       "Na_c_min    215636\n",
       "Na_c_max    215636\n",
       "Na_c_std    215636\n",
       "dtype: int64"
      ]
     },
     "execution_count": 15,
     "metadata": {},
     "output_type": "execute_result"
    }
   ],
   "source": [
    "X.isnull().sum()[X.isnull().sum() > 0]"
   ]
  },
  {
   "cell_type": "markdown",
   "metadata": {},
   "source": [
    "we need to replace value for 15 distribution"
   ]
  },
  {
   "cell_type": "code",
   "execution_count": 16,
   "metadata": {},
   "outputs": [
    {
     "data": {
      "text/html": [
       "<div>\n",
       "<style scoped>\n",
       "    .dataframe tbody tr th:only-of-type {\n",
       "        vertical-align: middle;\n",
       "    }\n",
       "\n",
       "    .dataframe tbody tr th {\n",
       "        vertical-align: top;\n",
       "    }\n",
       "\n",
       "    .dataframe thead th {\n",
       "        text-align: right;\n",
       "    }\n",
       "</style>\n",
       "<table border=\"1\" class=\"dataframe\">\n",
       "  <thead>\n",
       "    <tr style=\"text-align: right;\">\n",
       "      <th></th>\n",
       "      <th>Q_avg</th>\n",
       "      <th>Q_min</th>\n",
       "      <th>Q_max</th>\n",
       "      <th>Q_std</th>\n",
       "    </tr>\n",
       "  </thead>\n",
       "  <tbody>\n",
       "    <tr>\n",
       "      <th>866</th>\n",
       "      <td>NaN</td>\n",
       "      <td>NaN</td>\n",
       "      <td>NaN</td>\n",
       "      <td>NaN</td>\n",
       "    </tr>\n",
       "    <tr>\n",
       "      <th>1125</th>\n",
       "      <td>NaN</td>\n",
       "      <td>NaN</td>\n",
       "      <td>NaN</td>\n",
       "      <td>NaN</td>\n",
       "    </tr>\n",
       "    <tr>\n",
       "      <th>1299</th>\n",
       "      <td>NaN</td>\n",
       "      <td>NaN</td>\n",
       "      <td>NaN</td>\n",
       "      <td>NaN</td>\n",
       "    </tr>\n",
       "    <tr>\n",
       "      <th>1305</th>\n",
       "      <td>NaN</td>\n",
       "      <td>NaN</td>\n",
       "      <td>NaN</td>\n",
       "      <td>NaN</td>\n",
       "    </tr>\n",
       "    <tr>\n",
       "      <th>1314</th>\n",
       "      <td>NaN</td>\n",
       "      <td>NaN</td>\n",
       "      <td>NaN</td>\n",
       "      <td>NaN</td>\n",
       "    </tr>\n",
       "    <tr>\n",
       "      <th>...</th>\n",
       "      <td>...</td>\n",
       "      <td>...</td>\n",
       "      <td>...</td>\n",
       "      <td>...</td>\n",
       "    </tr>\n",
       "    <tr>\n",
       "      <th>217408</th>\n",
       "      <td>NaN</td>\n",
       "      <td>NaN</td>\n",
       "      <td>NaN</td>\n",
       "      <td>NaN</td>\n",
       "    </tr>\n",
       "    <tr>\n",
       "      <th>217410</th>\n",
       "      <td>NaN</td>\n",
       "      <td>NaN</td>\n",
       "      <td>NaN</td>\n",
       "      <td>NaN</td>\n",
       "    </tr>\n",
       "    <tr>\n",
       "      <th>217412</th>\n",
       "      <td>NaN</td>\n",
       "      <td>NaN</td>\n",
       "      <td>NaN</td>\n",
       "      <td>NaN</td>\n",
       "    </tr>\n",
       "    <tr>\n",
       "      <th>217414</th>\n",
       "      <td>NaN</td>\n",
       "      <td>NaN</td>\n",
       "      <td>NaN</td>\n",
       "      <td>NaN</td>\n",
       "    </tr>\n",
       "    <tr>\n",
       "      <th>217416</th>\n",
       "      <td>NaN</td>\n",
       "      <td>NaN</td>\n",
       "      <td>NaN</td>\n",
       "      <td>NaN</td>\n",
       "    </tr>\n",
       "  </tbody>\n",
       "</table>\n",
       "<p>3330 rows × 4 columns</p>\n",
       "</div>"
      ],
      "text/plain": [
       "        Q_avg  Q_min  Q_max  Q_std\n",
       "866       NaN    NaN    NaN    NaN\n",
       "1125      NaN    NaN    NaN    NaN\n",
       "1299      NaN    NaN    NaN    NaN\n",
       "1305      NaN    NaN    NaN    NaN\n",
       "1314      NaN    NaN    NaN    NaN\n",
       "...       ...    ...    ...    ...\n",
       "217408    NaN    NaN    NaN    NaN\n",
       "217410    NaN    NaN    NaN    NaN\n",
       "217412    NaN    NaN    NaN    NaN\n",
       "217414    NaN    NaN    NaN    NaN\n",
       "217416    NaN    NaN    NaN    NaN\n",
       "\n",
       "[3330 rows x 4 columns]"
      ]
     },
     "execution_count": 16,
     "metadata": {},
     "output_type": "execute_result"
    }
   ],
   "source": [
    "X[X[['Q_avg','Q_min','Q_max', 'Q_std']].isna().any(axis=1)][['Q_avg', 'Q_min', 'Q_max', 'Q_std']]"
   ]
  },
  {
   "cell_type": "code",
   "execution_count": 17,
   "metadata": {},
   "outputs": [
    {
     "data": {
      "text/plain": [
       "[<matplotlib.lines.Line2D at 0x7fe7c0f97910>]"
      ]
     },
     "execution_count": 17,
     "metadata": {},
     "output_type": "execute_result"
    },
    {
     "data": {
      "image/png": "[encoded data removed]",
      "text/plain": [
       "<Figure size 432x288 with 1 Axes>"
      ]
     },
     "metadata": {
      "needs_background": "light"
     },
     "output_type": "display_data"
    }
   ],
   "source": [
    "dates = matplotlib.dates.date2num(df.date)\n",
    "matplotlib.pyplot.plot_date(dates, y)"
   ]
  },
  {
   "cell_type": "markdown",
   "metadata": {},
   "source": [
    "## 1. Replace by the value of the day before"
   ]
  },
  {
   "cell_type": "code",
   "execution_count": 18,
   "metadata": {},
   "outputs": [
    {
     "data": {
      "text/html": [
       "<div>\n",
       "<style scoped>\n",
       "    .dataframe tbody tr th:only-of-type {\n",
       "        vertical-align: middle;\n",
       "    }\n",
       "\n",
       "    .dataframe tbody tr th {\n",
       "        vertical-align: top;\n",
       "    }\n",
       "\n",
       "    .dataframe thead th {\n",
       "        text-align: right;\n",
       "    }\n",
       "</style>\n",
       "<table border=\"1\" class=\"dataframe\">\n",
       "  <thead>\n",
       "    <tr style=\"text-align: right;\">\n",
       "      <th></th>\n",
       "      <th>Wind_turbine_name</th>\n",
       "      <th>Date_time</th>\n",
       "      <th>Ba_avg</th>\n",
       "      <th>Ba_min</th>\n",
       "      <th>Ba_max</th>\n",
       "      <th>Ba_std</th>\n",
       "      <th>Rt_avg</th>\n",
       "      <th>Rt_min</th>\n",
       "      <th>Rt_max</th>\n",
       "      <th>Rt_std</th>\n",
       "      <th>...</th>\n",
       "      <th>Wa_c_max</th>\n",
       "      <th>Wa_c_std</th>\n",
       "      <th>Na_c_avg</th>\n",
       "      <th>Na_c_min</th>\n",
       "      <th>Na_c_max</th>\n",
       "      <th>Na_c_std</th>\n",
       "      <th>date</th>\n",
       "      <th>year</th>\n",
       "      <th>month</th>\n",
       "      <th>season</th>\n",
       "    </tr>\n",
       "  </thead>\n",
       "  <tbody>\n",
       "    <tr>\n",
       "      <th>125374</th>\n",
       "      <td>R80790</td>\n",
       "      <td>2017-01-01T00:00:00+01:00</td>\n",
       "      <td>-1.000000</td>\n",
       "      <td>-1.000000</td>\n",
       "      <td>-0.860000</td>\n",
       "      <td>0.01</td>\n",
       "      <td>13.00</td>\n",
       "      <td>13.0</td>\n",
       "      <td>13.0</td>\n",
       "      <td>0.00</td>\n",
       "      <td>...</td>\n",
       "      <td>NaN</td>\n",
       "      <td>NaN</td>\n",
       "      <td>NaN</td>\n",
       "      <td>NaN</td>\n",
       "      <td>NaN</td>\n",
       "      <td>NaN</td>\n",
       "      <td>2016-12-31 23:00:00+00:00</td>\n",
       "      <td>2016</td>\n",
       "      <td>12</td>\n",
       "      <td>1</td>\n",
       "    </tr>\n",
       "    <tr>\n",
       "      <th>164341</th>\n",
       "      <td>R80721</td>\n",
       "      <td>2017-01-01T00:00:00+01:00</td>\n",
       "      <td>91.529999</td>\n",
       "      <td>91.529999</td>\n",
       "      <td>91.529999</td>\n",
       "      <td>0.00</td>\n",
       "      <td>12.21</td>\n",
       "      <td>12.0</td>\n",
       "      <td>13.0</td>\n",
       "      <td>0.38</td>\n",
       "      <td>...</td>\n",
       "      <td>NaN</td>\n",
       "      <td>NaN</td>\n",
       "      <td>NaN</td>\n",
       "      <td>NaN</td>\n",
       "      <td>NaN</td>\n",
       "      <td>NaN</td>\n",
       "      <td>2016-12-31 23:00:00+00:00</td>\n",
       "      <td>2016</td>\n",
       "      <td>12</td>\n",
       "      <td>1</td>\n",
       "    </tr>\n",
       "    <tr>\n",
       "      <th>60539</th>\n",
       "      <td>R80711</td>\n",
       "      <td>2017-01-01T00:00:00+01:00</td>\n",
       "      <td>-0.990000</td>\n",
       "      <td>-0.990000</td>\n",
       "      <td>-0.900000</td>\n",
       "      <td>0.00</td>\n",
       "      <td>12.00</td>\n",
       "      <td>12.0</td>\n",
       "      <td>12.0</td>\n",
       "      <td>0.00</td>\n",
       "      <td>...</td>\n",
       "      <td>NaN</td>\n",
       "      <td>NaN</td>\n",
       "      <td>NaN</td>\n",
       "      <td>NaN</td>\n",
       "      <td>NaN</td>\n",
       "      <td>NaN</td>\n",
       "      <td>2016-12-31 23:00:00+00:00</td>\n",
       "      <td>2016</td>\n",
       "      <td>12</td>\n",
       "      <td>1</td>\n",
       "    </tr>\n",
       "    <tr>\n",
       "      <th>115585</th>\n",
       "      <td>R80736</td>\n",
       "      <td>2017-01-01T00:00:00+01:00</td>\n",
       "      <td>0.000000</td>\n",
       "      <td>0.000000</td>\n",
       "      <td>0.000000</td>\n",
       "      <td>0.00</td>\n",
       "      <td>11.00</td>\n",
       "      <td>11.0</td>\n",
       "      <td>11.0</td>\n",
       "      <td>0.00</td>\n",
       "      <td>...</td>\n",
       "      <td>NaN</td>\n",
       "      <td>NaN</td>\n",
       "      <td>NaN</td>\n",
       "      <td>NaN</td>\n",
       "      <td>NaN</td>\n",
       "      <td>NaN</td>\n",
       "      <td>2016-12-31 23:00:00+00:00</td>\n",
       "      <td>2016</td>\n",
       "      <td>12</td>\n",
       "      <td>1</td>\n",
       "    </tr>\n",
       "    <tr>\n",
       "      <th>17563</th>\n",
       "      <td>R80711</td>\n",
       "      <td>2017-01-01T00:10:00+01:00</td>\n",
       "      <td>-0.990000</td>\n",
       "      <td>-0.990000</td>\n",
       "      <td>-0.990000</td>\n",
       "      <td>0.00</td>\n",
       "      <td>12.00</td>\n",
       "      <td>12.0</td>\n",
       "      <td>12.0</td>\n",
       "      <td>0.00</td>\n",
       "      <td>...</td>\n",
       "      <td>NaN</td>\n",
       "      <td>NaN</td>\n",
       "      <td>NaN</td>\n",
       "      <td>NaN</td>\n",
       "      <td>NaN</td>\n",
       "      <td>NaN</td>\n",
       "      <td>2016-12-31 23:10:00+00:00</td>\n",
       "      <td>2016</td>\n",
       "      <td>12</td>\n",
       "      <td>1</td>\n",
       "    </tr>\n",
       "    <tr>\n",
       "      <th>...</th>\n",
       "      <td>...</td>\n",
       "      <td>...</td>\n",
       "      <td>...</td>\n",
       "      <td>...</td>\n",
       "      <td>...</td>\n",
       "      <td>...</td>\n",
       "      <td>...</td>\n",
       "      <td>...</td>\n",
       "      <td>...</td>\n",
       "      <td>...</td>\n",
       "      <td>...</td>\n",
       "      <td>...</td>\n",
       "      <td>...</td>\n",
       "      <td>...</td>\n",
       "      <td>...</td>\n",
       "      <td>...</td>\n",
       "      <td>...</td>\n",
       "      <td>...</td>\n",
       "      <td>...</td>\n",
       "      <td>...</td>\n",
       "      <td>...</td>\n",
       "    </tr>\n",
       "    <tr>\n",
       "      <th>74443</th>\n",
       "      <td>R80736</td>\n",
       "      <td>2018-01-12T23:50:00+01:00</td>\n",
       "      <td>45.000000</td>\n",
       "      <td>45.000000</td>\n",
       "      <td>45.000000</td>\n",
       "      <td>0.00</td>\n",
       "      <td>13.79</td>\n",
       "      <td>13.0</td>\n",
       "      <td>14.0</td>\n",
       "      <td>0.37</td>\n",
       "      <td>...</td>\n",
       "      <td>NaN</td>\n",
       "      <td>NaN</td>\n",
       "      <td>NaN</td>\n",
       "      <td>NaN</td>\n",
       "      <td>NaN</td>\n",
       "      <td>NaN</td>\n",
       "      <td>2018-01-12 22:50:00+00:00</td>\n",
       "      <td>2018</td>\n",
       "      <td>1</td>\n",
       "      <td>1</td>\n",
       "    </tr>\n",
       "    <tr>\n",
       "      <th>79411</th>\n",
       "      <td>R80721</td>\n",
       "      <td>2018-01-13T00:00:00+01:00</td>\n",
       "      <td>44.990000</td>\n",
       "      <td>44.990000</td>\n",
       "      <td>44.990000</td>\n",
       "      <td>0.00</td>\n",
       "      <td>14.94</td>\n",
       "      <td>14.0</td>\n",
       "      <td>15.0</td>\n",
       "      <td>0.21</td>\n",
       "      <td>...</td>\n",
       "      <td>NaN</td>\n",
       "      <td>NaN</td>\n",
       "      <td>NaN</td>\n",
       "      <td>NaN</td>\n",
       "      <td>NaN</td>\n",
       "      <td>NaN</td>\n",
       "      <td>2018-01-12 23:00:00+00:00</td>\n",
       "      <td>2018</td>\n",
       "      <td>1</td>\n",
       "      <td>1</td>\n",
       "    </tr>\n",
       "    <tr>\n",
       "      <th>175989</th>\n",
       "      <td>R80711</td>\n",
       "      <td>2018-01-13T00:00:00+01:00</td>\n",
       "      <td>-0.060000</td>\n",
       "      <td>-0.490000</td>\n",
       "      <td>0.500000</td>\n",
       "      <td>0.36</td>\n",
       "      <td>13.41</td>\n",
       "      <td>13.0</td>\n",
       "      <td>14.0</td>\n",
       "      <td>0.37</td>\n",
       "      <td>...</td>\n",
       "      <td>NaN</td>\n",
       "      <td>NaN</td>\n",
       "      <td>NaN</td>\n",
       "      <td>NaN</td>\n",
       "      <td>NaN</td>\n",
       "      <td>NaN</td>\n",
       "      <td>2018-01-12 23:00:00+00:00</td>\n",
       "      <td>2018</td>\n",
       "      <td>1</td>\n",
       "      <td>1</td>\n",
       "    </tr>\n",
       "    <tr>\n",
       "      <th>208260</th>\n",
       "      <td>R80790</td>\n",
       "      <td>2018-01-13T00:00:00+01:00</td>\n",
       "      <td>44.990000</td>\n",
       "      <td>44.990000</td>\n",
       "      <td>44.990000</td>\n",
       "      <td>0.00</td>\n",
       "      <td>14.00</td>\n",
       "      <td>13.5</td>\n",
       "      <td>14.0</td>\n",
       "      <td>0.02</td>\n",
       "      <td>...</td>\n",
       "      <td>NaN</td>\n",
       "      <td>NaN</td>\n",
       "      <td>NaN</td>\n",
       "      <td>NaN</td>\n",
       "      <td>NaN</td>\n",
       "      <td>NaN</td>\n",
       "      <td>2018-01-12 23:00:00+00:00</td>\n",
       "      <td>2018</td>\n",
       "      <td>1</td>\n",
       "      <td>1</td>\n",
       "    </tr>\n",
       "    <tr>\n",
       "      <th>212607</th>\n",
       "      <td>R80736</td>\n",
       "      <td>2018-01-13T00:00:00+01:00</td>\n",
       "      <td>45.000000</td>\n",
       "      <td>45.000000</td>\n",
       "      <td>45.000000</td>\n",
       "      <td>0.00</td>\n",
       "      <td>13.38</td>\n",
       "      <td>13.0</td>\n",
       "      <td>14.0</td>\n",
       "      <td>0.43</td>\n",
       "      <td>...</td>\n",
       "      <td>NaN</td>\n",
       "      <td>NaN</td>\n",
       "      <td>NaN</td>\n",
       "      <td>NaN</td>\n",
       "      <td>NaN</td>\n",
       "      <td>NaN</td>\n",
       "      <td>2018-01-12 23:00:00+00:00</td>\n",
       "      <td>2018</td>\n",
       "      <td>1</td>\n",
       "      <td>1</td>\n",
       "    </tr>\n",
       "  </tbody>\n",
       "</table>\n",
       "<p>215636 rows × 142 columns</p>\n",
       "</div>"
      ],
      "text/plain": [
       "       Wind_turbine_name                  Date_time     Ba_avg     Ba_min  \\\n",
       "125374            R80790  2017-01-01T00:00:00+01:00  -1.000000  -1.000000   \n",
       "164341            R80721  2017-01-01T00:00:00+01:00  91.529999  91.529999   \n",
       "60539             R80711  2017-01-01T00:00:00+01:00  -0.990000  -0.990000   \n",
       "115585            R80736  2017-01-01T00:00:00+01:00   0.000000   0.000000   \n",
       "17563             R80711  2017-01-01T00:10:00+01:00  -0.990000  -0.990000   \n",
       "...                  ...                        ...        ...        ...   \n",
       "74443             R80736  2018-01-12T23:50:00+01:00  45.000000  45.000000   \n",
       "79411             R80721  2018-01-13T00:00:00+01:00  44.990000  44.990000   \n",
       "175989            R80711  2018-01-13T00:00:00+01:00  -0.060000  -0.490000   \n",
       "208260            R80790  2018-01-13T00:00:00+01:00  44.990000  44.990000   \n",
       "212607            R80736  2018-01-13T00:00:00+01:00  45.000000  45.000000   \n",
       "\n",
       "           Ba_max  Ba_std  Rt_avg  Rt_min  Rt_max  Rt_std  ...  Wa_c_max  \\\n",
       "125374  -0.860000    0.01   13.00    13.0    13.0    0.00  ...       NaN   \n",
       "164341  91.529999    0.00   12.21    12.0    13.0    0.38  ...       NaN   \n",
       "60539   -0.900000    0.00   12.00    12.0    12.0    0.00  ...       NaN   \n",
       "115585   0.000000    0.00   11.00    11.0    11.0    0.00  ...       NaN   \n",
       "17563   -0.990000    0.00   12.00    12.0    12.0    0.00  ...       NaN   \n",
       "...           ...     ...     ...     ...     ...     ...  ...       ...   \n",
       "74443   45.000000    0.00   13.79    13.0    14.0    0.37  ...       NaN   \n",
       "79411   44.990000    0.00   14.94    14.0    15.0    0.21  ...       NaN   \n",
       "175989   0.500000    0.36   13.41    13.0    14.0    0.37  ...       NaN   \n",
       "208260  44.990000    0.00   14.00    13.5    14.0    0.02  ...       NaN   \n",
       "212607  45.000000    0.00   13.38    13.0    14.0    0.43  ...       NaN   \n",
       "\n",
       "        Wa_c_std  Na_c_avg  Na_c_min  Na_c_max  Na_c_std  \\\n",
       "125374       NaN       NaN       NaN       NaN       NaN   \n",
       "164341       NaN       NaN       NaN       NaN       NaN   \n",
       "60539        NaN       NaN       NaN       NaN       NaN   \n",
       "115585       NaN       NaN       NaN       NaN       NaN   \n",
       "17563        NaN       NaN       NaN       NaN       NaN   \n",
       "...          ...       ...       ...       ...       ...   \n",
       "74443        NaN       NaN       NaN       NaN       NaN   \n",
       "79411        NaN       NaN       NaN       NaN       NaN   \n",
       "175989       NaN       NaN       NaN       NaN       NaN   \n",
       "208260       NaN       NaN       NaN       NaN       NaN   \n",
       "212607       NaN       NaN       NaN       NaN       NaN   \n",
       "\n",
       "                            date  year  month  season  \n",
       "125374 2016-12-31 23:00:00+00:00  2016     12       1  \n",
       "164341 2016-12-31 23:00:00+00:00  2016     12       1  \n",
       "60539  2016-12-31 23:00:00+00:00  2016     12       1  \n",
       "115585 2016-12-31 23:00:00+00:00  2016     12       1  \n",
       "17563  2016-12-31 23:10:00+00:00  2016     12       1  \n",
       "...                          ...   ...    ...     ...  \n",
       "74443  2018-01-12 22:50:00+00:00  2018      1       1  \n",
       "79411  2018-01-12 23:00:00+00:00  2018      1       1  \n",
       "175989 2018-01-12 23:00:00+00:00  2018      1       1  \n",
       "208260 2018-01-12 23:00:00+00:00  2018      1       1  \n",
       "212607 2018-01-12 23:00:00+00:00  2018      1       1  \n",
       "\n",
       "[215636 rows x 142 columns]"
      ]
     },
     "execution_count": 18,
     "metadata": {},
     "output_type": "execute_result"
    }
   ],
   "source": [
    " df.sort_values(by='date')"
   ]
  },
  {
   "cell_type": "code",
   "execution_count": 19,
   "metadata": {},
   "outputs": [],
   "source": [
    "features = ['Q_avg','Q_min','Q_max','Q_std']\n",
    "def fillna_with_previous_values(features, df):\n",
    "    for feature in features:\n",
    "        df[feature] = df[feature].fillna(method='ffill')"
   ]
  },
  {
   "cell_type": "code",
   "execution_count": 20,
   "metadata": {},
   "outputs": [],
   "source": [
    "fillna_with_previous_values(features, df)"
   ]
  },
  {
   "cell_type": "markdown",
   "metadata": {},
   "source": [
    "## 2. Replace by the average value "
   ]
  },
  {
   "cell_type": "code",
   "execution_count": 21,
   "metadata": {},
   "outputs": [],
   "source": [
    "features = ['Va1_avg','Va1_min','Va1_max','Va1_std']\n",
    "def fillna_with_mean(features, df):\n",
    "    for feature in features:\n",
    "        df[feature] = df[feature].fillna(df[feature].mean())"
   ]
  },
  {
   "cell_type": "code",
   "execution_count": 22,
   "metadata": {},
   "outputs": [
    {
     "data": {
      "text/plain": [
       "0.6367180731242419"
      ]
     },
     "execution_count": 22,
     "metadata": {},
     "output_type": "execute_result"
    }
   ],
   "source": [
    "df['Va1_avg'].mean()"
   ]
  },
  {
   "cell_type": "code",
   "execution_count": 23,
   "metadata": {},
   "outputs": [],
   "source": [
    "fillna_with_mean(features, df)"
   ]
  },
  {
   "cell_type": "code",
   "execution_count": 24,
   "metadata": {
    "scrolled": true
   },
   "outputs": [
    {
     "data": {
      "text/plain": [
       "Va1_avg    0\n",
       "Va1_min    0\n",
       "Va1_max    0\n",
       "Va1_std    0\n",
       "dtype: int64"
      ]
     },
     "execution_count": 24,
     "metadata": {},
     "output_type": "execute_result"
    }
   ],
   "source": [
    "df[['Va1_avg','Va1_min','Va1_max','Va1_std']].isnull().sum()"
   ]
  },
  {
   "cell_type": "markdown",
   "metadata": {},
   "source": [
    "## 3. Replace by the median value "
   ]
  },
  {
   "cell_type": "code",
   "execution_count": 28,
   "metadata": {},
   "outputs": [],
   "source": [
    "features = ['Va2_avg','Va2_min','Va2_max','Va2_std']\n",
    "def fillna_with_median(features):\n",
    "    for feature in features:\n",
    "        df[feature] = df[feature].fillna(df[feature].median())"
   ]
  },
  {
   "cell_type": "code",
   "execution_count": 29,
   "metadata": {},
   "outputs": [
    {
     "data": {
      "text/plain": [
       "0.6367180731242419"
      ]
     },
     "execution_count": 29,
     "metadata": {},
     "output_type": "execute_result"
    }
   ],
   "source": [
    "df['Va1_avg'].median()"
   ]
  },
  {
   "cell_type": "code",
   "execution_count": 31,
   "metadata": {},
   "outputs": [],
   "source": [
    "fillna_with_median(features)"
   ]
  },
  {
   "cell_type": "code",
   "execution_count": 32,
   "metadata": {
    "scrolled": true
   },
   "outputs": [
    {
     "data": {
      "text/plain": [
       "Va2_avg    0\n",
       "Va2_min    0\n",
       "Va2_max    0\n",
       "Va2_std    0\n",
       "dtype: int64"
      ]
     },
     "execution_count": 32,
     "metadata": {},
     "output_type": "execute_result"
    }
   ],
   "source": [
    "df[['Va2_avg','Va2_min','Va2_max','Va2_std']].isnull().sum()"
   ]
  },
  {
   "cell_type": "code",
   "execution_count": null,
   "metadata": {},
   "outputs": [],
   "source": [
    "X = X.fillna(0)"
   ]
  },
  {
   "cell_type": "code",
   "execution_count": null,
   "metadata": {},
   "outputs": [],
   "source": [
    "y = df[target]"
   ]
  },
  {
   "cell_type": "markdown",
   "metadata": {},
   "source": [
    "### Split Dataset into train and test"
   ]
  },
  {
   "cell_type": "code",
   "execution_count": null,
   "metadata": {},
   "outputs": [],
   "source": [
    "X_train, X_test, y_train, y_test = train_test_split(X, y, test_size=0.33, random_state=42)"
   ]
  },
  {
   "cell_type": "markdown",
   "metadata": {},
   "source": [
    "# Random forest model"
   ]
  },
  {
   "cell_type": "markdown",
   "metadata": {},
   "source": [
    "## Training "
   ]
  },
  {
   "cell_type": "code",
   "execution_count": null,
   "metadata": {},
   "outputs": [],
   "source": [
    "model = RandomForestRegressor(n_estimators=100, max_depth=10, n_jobs=6)"
   ]
  },
  {
   "cell_type": "code",
   "execution_count": null,
   "metadata": {},
   "outputs": [],
   "source": [
    "model.fit(X_train, y_train)"
   ]
  },
  {
   "cell_type": "markdown",
   "metadata": {},
   "source": [
    "## Prediction "
   ]
  },
  {
   "cell_type": "code",
   "execution_count": null,
   "metadata": {},
   "outputs": [],
   "source": []
  },
  {
   "cell_type": "code",
   "execution_count": null,
   "metadata": {},
   "outputs": [],
   "source": [
    "y_pred_test = model.predict(X_test)\n",
    "((y_pred_test - y_test) > 0.2).value_counts() / len(y_test)"
   ]
  },
  {
   "cell_type": "code",
   "execution_count": null,
   "metadata": {},
   "outputs": [],
   "source": [
    "y_pred_train = model.predict(X_train)\n",
    "((y_pred_train - y_train) > 0.2).value_counts() / len(y_train)"
   ]
  }
 ],
 "metadata": {
  "kernelspec": {
   "display_name": "formation_data_science",
   "language": "python",
   "name": "formation_data_science"
  },
  "language_info": {
   "codemirror_mode": {
    "name": "ipython",
    "version": 3
   },
   "file_extension": ".py",
   "mimetype": "text/x-python",
   "name": "python",
   "nbconvert_exporter": "python",
   "pygments_lexer": "ipython3",
   "version": "3.7.6"
  }
 },
 "nbformat": 4,
 "nbformat_minor": 2
}
